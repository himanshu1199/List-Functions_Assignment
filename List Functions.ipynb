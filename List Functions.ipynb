{
 "cells": [
  {
   "cell_type": "markdown",
   "id": "216bf440-9b1e-4a55-8bb1-6d2f5f235062",
   "metadata": {},
   "source": [
    "***Assignment - List Functions***"
   ]
  },
  {
   "cell_type": "markdown",
   "id": "c2240d53-aabd-40d2-b144-4de54b8e3258",
   "metadata": {},
   "source": [
    "Ans 1 Syntax of adding an element in List in Python is of 2 type :\n",
    "\n",
    "1.  **List_name.append(Value)** \n",
    "                            {This value will be added to the end of the list}\n",
    "\n",
    "2.  **List_name.insert( Index (where to add), Value )**\n",
    "                                                {This value will be added in between to the list}\n",
    "    \n",
    "    Example given below "
   ]
  },
  {
   "cell_type": "code",
   "execution_count": 44,
   "id": "b6529eb6-4a75-459b-a571-9d2b8fa364af",
   "metadata": {},
   "outputs": [],
   "source": [
    "L1 = [5, 25, \"Cricket\", \"Mahindra\", 5+5j]"
   ]
  },
  {
   "cell_type": "code",
   "execution_count": 45,
   "id": "ac9be697-c4d9-4d34-a23e-088409cd5931",
   "metadata": {},
   "outputs": [
    {
     "name": "stdout",
     "output_type": "stream",
     "text": [
      "[5, 25, 'Cricket', 'Mahindra', (5+5j), 'All is well']\n"
     ]
    }
   ],
   "source": [
    "# Adding an Element to the end of the List \n",
    "\n",
    "L1.append(\"All is well\")\n",
    "print(L1)"
   ]
  },
  {
   "cell_type": "code",
   "execution_count": 46,
   "id": "f4b613cd-3ffb-4b62-9a35-391d4e51a1b0",
   "metadata": {},
   "outputs": [
    {
     "name": "stdout",
     "output_type": "stream",
     "text": [
      "[5, 25, 'Cricket', 'Football', 'Mahindra', (5+5j), 'All is well']\n"
     ]
    }
   ],
   "source": [
    "# Adding an Element in between to the List \n",
    "\n",
    "L1.insert(3, \"Football\")\n",
    "print(L1)"
   ]
  },
  {
   "cell_type": "markdown",
   "id": "33514416-6c17-4dc6-b878-f62d65fff356",
   "metadata": {},
   "source": [
    "Ans 2 Difference Between **Remove()** and **pop()**\n",
    "\n",
    "**Remove()**\n",
    "remove() is an in-built function in Python. As the name suggests, it is used to remove the elements from the lists. It removes the element by value based on its first occurrence. \n",
    "\n",
    "It takes the value to be removed as its parameter and checks for that value in the list. If the element is found, it deletes from the list. The first occurring element is deleted if multiple elements have the same value as the parameter. There may be a case when the given value is not present in the list, and it gives an error.\n",
    "\n",
    "**Pop()**\n",
    "Like, remove(), pop() is also an in-built function used in Python for deleting the elements from the list. It removes the value based on the index. It takes the index/position of the element to be removed as its parameter. Passing the index is optional. If the index is specified, then it removes the element present at that particular position, else removes the last element of the list. The catch is it returns the removed element."
   ]
  },
  {
   "cell_type": "code",
   "execution_count": 47,
   "id": "1bd44e07-4e31-4da1-860e-d8688cd21102",
   "metadata": {},
   "outputs": [
    {
     "name": "stdout",
     "output_type": "stream",
     "text": [
      "[5, 25, 'Football', 'Mahindra', (5+5j), 'All is well']\n"
     ]
    }
   ],
   "source": [
    "#Example of Romove()\n",
    "\n",
    "L1.remove(\"Cricket\")\n",
    "print(L1)"
   ]
  },
  {
   "cell_type": "code",
   "execution_count": 48,
   "id": "2a7a1758-35b7-483e-8ada-3c2c0bf6174b",
   "metadata": {},
   "outputs": [
    {
     "name": "stdout",
     "output_type": "stream",
     "text": [
      "[5, 25, 'Football', 'Mahindra', 'All is well']\n"
     ]
    }
   ],
   "source": [
    "#Example of pop()\n",
    "\n",
    "L1.pop(4)\n",
    "print(L1)"
   ]
  },
  {
   "cell_type": "markdown",
   "id": "a508e509-a667-4567-bfba-2fa95c7d31f6",
   "metadata": {},
   "source": [
    "Ans 3 Code to sort a list in descending order "
   ]
  },
  {
   "cell_type": "code",
   "execution_count": 49,
   "id": "e91f6b67-9789-44ba-b871-0aaa3b61825c",
   "metadata": {},
   "outputs": [],
   "source": [
    "L2 = [1,5,6,4,8,7,2,5,6,4,5,5]"
   ]
  },
  {
   "cell_type": "code",
   "execution_count": 50,
   "id": "a1f9a17d-c8b4-42c0-af76-8c5c1183dc8a",
   "metadata": {},
   "outputs": [
    {
     "name": "stdout",
     "output_type": "stream",
     "text": [
      "[8, 7, 6, 6, 5, 5, 5, 5, 4, 4, 2, 1]\n"
     ]
    }
   ],
   "source": [
    "L2.sort(reverse=True)\n",
    "print(L2)"
   ]
  },
  {
   "cell_type": "markdown",
   "id": "28fbec90-b7b2-462d-938b-d85a3513a364",
   "metadata": {},
   "source": [
    "Ans 4 Count of the element occurs in the list "
   ]
  },
  {
   "cell_type": "code",
   "execution_count": 51,
   "id": "be7e93ba-5335-4336-aa58-b8a173cc9324",
   "metadata": {},
   "outputs": [
    {
     "data": {
      "text/plain": [
       "4"
      ]
     },
     "execution_count": 51,
     "metadata": {},
     "output_type": "execute_result"
    }
   ],
   "source": [
    "L2.count(5)"
   ]
  },
  {
   "cell_type": "markdown",
   "id": "f2e71a27-3f3d-4d40-9dd8-a7ba63a50798",
   "metadata": {},
   "source": [
    "Ans 5 Code to Reverse the List "
   ]
  },
  {
   "cell_type": "code",
   "execution_count": 52,
   "id": "41faff88-bf7b-404a-8a84-2b3ceda443d9",
   "metadata": {},
   "outputs": [
    {
     "name": "stdout",
     "output_type": "stream",
     "text": [
      "[1, 2, 4, 4, 5, 5, 5, 5, 6, 6, 7, 8]\n"
     ]
    }
   ],
   "source": [
    "L2.reverse()\n",
    "print(L2)"
   ]
  }
 ],
 "metadata": {
  "kernelspec": {
   "display_name": "Python 3 (ipykernel)",
   "language": "python",
   "name": "python3"
  },
  "language_info": {
   "codemirror_mode": {
    "name": "ipython",
    "version": 3
   },
   "file_extension": ".py",
   "mimetype": "text/x-python",
   "name": "python",
   "nbconvert_exporter": "python",
   "pygments_lexer": "ipython3",
   "version": "3.10.8"
  }
 },
 "nbformat": 4,
 "nbformat_minor": 5
}
